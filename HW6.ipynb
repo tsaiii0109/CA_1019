{
  "cells": [
    {
      "cell_type": "code",
      "execution_count": null,
      "id": "fe7c7859",
      "metadata": {
        "id": "fe7c7859"
      },
      "outputs": [],
      "source": [
        "print(\"Hello\")"
      ]
    },
    {
      "cell_type": "code",
      "source": [
        "print(\"Newwwww\")"
      ],
      "metadata": {
        "id": "SZTVLTVbkoV6"
      },
      "id": "SZTVLTVbkoV6",
      "execution_count": null,
      "outputs": []
    }
  ],
  "metadata": {
    "kernelspec": {
      "display_name": "Python 3",
      "language": "python",
      "name": "python3"
    },
    "language_info": {
      "codemirror_mode": {
        "name": "ipython",
        "version": 3
      },
      "file_extension": ".py",
      "mimetype": "text/x-python",
      "name": "python",
      "nbconvert_exporter": "python",
      "pygments_lexer": "ipython3",
      "version": "3.8.8"
    },
    "colab": {
      "provenance": []
    }
  },
  "nbformat": 4,
  "nbformat_minor": 5
}